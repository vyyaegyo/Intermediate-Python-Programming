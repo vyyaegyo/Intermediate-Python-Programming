{
 "cells": [
  {
   "cell_type": "markdown",
   "metadata": {},
   "source": [
    "# Filter function\n",
    "The filter() function returns an iterator where the items are filtered through a function to test if the item is accepted or not.\n",
    "\n",
    "Syntax:    filter(function, iterable)"
   ]
  },
  {
   "cell_type": "code",
   "execution_count": 1,
   "metadata": {},
   "outputs": [
    {
     "name": "stdout",
     "output_type": "stream",
     "text": [
      "18\n",
      "24\n",
      "32\n"
     ]
    }
   ],
   "source": [
    "ages = [5, 12, 17, 18, 24, 32]\n",
    "\n",
    "def myFunc(x):\n",
    "    if x < 18:\n",
    "        return False\n",
    "    else:\n",
    "        return True\n",
    "\n",
    "adults = filter(myFunc, ages)\n",
    "\n",
    "for x in adults:\n",
    "    print(x)\n",
    "\n"
   ]
  },
  {
   "cell_type": "markdown",
   "metadata": {},
   "source": [
    "### Filter with lists, tuples, or sets\n",
    "Suppose you have a list of letters and we want to filter out the vowels using a filter on that list. You can create a simple function to check whether a letter as an argument to that function is a vowel or not and return True or False based on the check. It is also possible to use this method as an argument for the filter function along with the list of letters. \n",
    "If you use the none as a function argument, the filter method will remove any element from the iterable that it considers to be false. "
   ]
  },
  {
   "cell_type": "code",
   "execution_count": 1,
   "metadata": {},
   "outputs": [
    {
     "name": "stdout",
     "output_type": "stream",
     "text": [
      "The type of returned object is:  <class 'filter'>\n",
      "The list of vowels is:  ['u', 'a', 'e', 'i']\n"
     ]
    }
   ],
   "source": [
    "# Using filter with a simple function on a list\n",
    "def check(letter):\n",
    "    list_of_vowels = ['a', 'e', 'i', 'o', 'u']\n",
    "    if letter in list_of_vowels:\n",
    "        return True\n",
    "    else:\n",
    "        return False\n",
    "letters = ['u', 'p', 'h', 'a', 'g', 'e', 'w', 'i']\n",
    "filtered_object = filter(check, letters)\n",
    "print(\"The type of returned object is: \", type(filtered_object))\n",
    "filtered_list = list(filtered_object)\n",
    "print(\"The list of vowels is: \", filtered_list)"
   ]
  },
  {
   "cell_type": "code",
   "execution_count": 7,
   "metadata": {},
   "outputs": [
    {
     "name": "stdout",
     "output_type": "stream",
     "text": [
      "The type of odd numbers is:  <class 'filter'>\n",
      "The type of even numbers is:  <class 'filter'>\n",
      "The list of odd numbers is:  [5, 23, 109, -3, -45]\n",
      "The list of even numbers:  [10, 64, 66, 84, -20]\n"
     ]
    }
   ],
   "source": [
    "# Using Filter with a Lambda function on a list\n",
    "#Operators note: print(10 % 3)  # Output: 1, print(5 != 3)  # Output: True, print(5 == 5)  # Output: True\n",
    "nums = [5, 10, 23, 64, 66, 84, 109, -3, -45, -20]\n",
    "\n",
    "#Filter all the odd numbers from the list\n",
    "odd = filter(lambda p: p % 2 != 0, nums)\n",
    "#Filter all the even numbers from the list\n",
    "even = filter(lambda p: p % 2 == 0, nums)\n",
    "print(\"The type of odd numbers is: \", type(odd))\n",
    "print(\"The type of even numbers is: \", type(even))\n",
    "odd_list = list(odd)\n",
    "even_list = list(even)\n",
    "print(\"The list of odd numbers is: \", odd_list)\n",
    "print(\"The list of even numbers: \", even_list)"
   ]
  },
  {
   "cell_type": "code",
   "execution_count": 8,
   "metadata": {},
   "outputs": [
    {
     "name": "stdout",
     "output_type": "stream",
     "text": [
      "5\n",
      "-26\n",
      "True\n"
     ]
    }
   ],
   "source": [
    "#Using filter with none as a function parameter\n",
    "# This defines a list containing various values including integers, a boolean, an empty string, zeros, an empty dictionary, and an empty list.\n",
    "my_list = [5, -26, \"\", True, False, 0, 0.0, {}, []]\n",
    "#When None is passed as the function to filter, it removes all falsy values from the iterable.\n",
    "filtered_object = filter(None, my_list)\n",
    "for element in filtered_object:\n",
    "    print(element)"
   ]
  },
  {
   "cell_type": "code",
   "execution_count": 10,
   "metadata": {},
   "outputs": [
    {
     "name": "stdout",
     "output_type": "stream",
     "text": [
      "Gone Girl\n",
      "The Silent Patient\n"
     ]
    }
   ],
   "source": [
    "#Using filter with a list of dictionaries\n",
    "books = [\n",
    "\n",
    "   {\"Title\":\"Angels and Demons\", \"Author\":\"Dan Brown\", \"Price\":500},\n",
    "\n",
    "   {\"Title\":\"Gone Girl\", \"Author\":\"Gillian Flynn\", \"Price\":730},\n",
    "\n",
    "   {\"Title\":\"The Silent Patient\", \"Author\":\"Alex Michaelidis\", \"Price\":945},\n",
    "\n",
    "   {\"Title\":\"Before I Go To Sleep\", \"Author\":\"S.J Watson\", \"Price\":400}\n",
    "\n",
    "   ]\n",
    "def func(book):\n",
    "    if book[\"Price\"] > 500:\n",
    "        return True\n",
    "    else:\n",
    "        return False\n",
    "filtered_object = filter(func, books)\n",
    "#This loop iterates over the filtered_object. For each item d in the iterator, it converts d to a dictionary (though d is already a dictionary, \n",
    "#so this is redundant) and prints the value associated with the key \"Title\".\n",
    "for d in filtered_object:\n",
    "    print(dict(d)[\"Title\"])"
   ]
  }
 ],
 "metadata": {
  "kernelspec": {
   "display_name": "Python 3",
   "language": "python",
   "name": "python3"
  },
  "language_info": {
   "codemirror_mode": {
    "name": "ipython",
    "version": 3
   },
   "file_extension": ".py",
   "mimetype": "text/x-python",
   "name": "python",
   "nbconvert_exporter": "python",
   "pygments_lexer": "ipython3",
   "version": "3.11.4"
  }
 },
 "nbformat": 4,
 "nbformat_minor": 2
}
