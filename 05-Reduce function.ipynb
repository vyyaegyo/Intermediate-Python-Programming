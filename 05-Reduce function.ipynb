{
 "cells": [
  {
   "cell_type": "markdown",
   "metadata": {},
   "source": [
    "# Reduce function\n",
    "Python’s reduce() implements a mathematical technique commonly known as folding or reduction. You’re doing a fold or reduction when you reduce a list of items to a single cumulative value. Python’s reduce() operates on any iterable—not just lists—and performs the following steps:\n",
    "\n",
    "Apply a function (or callable) to the first two items in an iterable and generate a partial result.\n",
    "Use that partial result, together with the third item in the iterable, to generate another partial result.\n",
    "Repeat the process until the iterable is exhausted and then return a single cumulative value.\n",
    "\n",
    "According to the documentation for reduce(), the function has the following signature:\n",
    "functools.reduce(function, iterable[, initializer])"
   ]
  },
  {
   "cell_type": "markdown",
   "metadata": {},
   "source": [
    "### Using a lambda function\n",
    "In this example, we have defined a lambda function that calculates the sum of two numbers on the passed lists as an iterable using the reduce function\n",
    "Explain code: returns the sum of whole list as a single value sesult which is calculated by applying lambda function."
   ]
  },
  {
   "cell_type": "code",
   "execution_count": 2,
   "metadata": {},
   "outputs": [
    {
     "name": "stdout",
     "output_type": "stream",
     "text": [
      "10\n"
     ]
    }
   ],
   "source": [
    "from functools import reduce\n",
    "\n",
    "nums = [1, 2, 3, 4]\n",
    "ans = reduce(lambda x, y: x + y, nums)\n",
    "print(ans)"
   ]
  },
  {
   "cell_type": "markdown",
   "metadata": {},
   "source": [
    "### Using a pre-defined function\n",
    "A pre-defined function, product, which returns the product of 2 numbers passed into it, is used as an argument in the reduce function, which is passed along with a list of numbers"
   ]
  },
  {
   "cell_type": "code",
   "execution_count": 3,
   "metadata": {},
   "outputs": [
    {
     "name": "stdout",
     "output_type": "stream",
     "text": [
      "210\n"
     ]
    }
   ],
   "source": [
    "from functools import reduce\n",
    "# calculate the product of two elements\n",
    "\n",
    "def product(x, y):\n",
    "    return x*y\n",
    "ans = reduce(product, [2, 5, 3, 7])\n",
    "print(ans)\n"
   ]
  },
  {
   "cell_type": "markdown",
   "metadata": {},
   "source": [
    "# Using operator functions\n",
    "Operator reduce function are the basic pre-defined mathematical, logical, and bitwise operations combined inside a single module in Python named operator"
   ]
  },
  {
   "cell_type": "code",
   "execution_count": 5,
   "metadata": {},
   "outputs": [
    {
     "name": "stdout",
     "output_type": "stream",
     "text": [
      "The sum using add operator function is  23\n",
      "Scaler Academy\n"
     ]
    }
   ],
   "source": [
    "import functools\n",
    "# importing operator module\n",
    "import operator\n",
    "\n",
    "dummy = [-1, 5, 10, 6, 3]\n",
    "# Use reduce to calculate the sum of the list along with add operator function\n",
    "print(\"The sum using add operator function is \", functools.reduce(operator.add, dummy))\n",
    "# Using concat operator to join strings\n",
    "print(functools.reduce(operator.concat, [\"Scaler\",\" \", \"Academy\"]))"
   ]
  },
  {
   "cell_type": "markdown",
   "metadata": {},
   "source": [
    "### Reducing Iterables with Python's reduce()\n",
    "#### Summing Numeric values: Python's reduce() function, found in the functools module, is adept at summing numeric values in an iterable, such as a list. This function applies a given function cumulatively to the items of the iterable, producing a single result."
   ]
  },
  {
   "cell_type": "code",
   "execution_count": 6,
   "metadata": {},
   "outputs": [
    {
     "name": "stdout",
     "output_type": "stream",
     "text": [
      "Total sum:  14\n"
     ]
    }
   ],
   "source": [
    "from functools import reduce\n",
    "# Function to add two numbers\n",
    "def add(a, b):\n",
    "    return a + b\n",
    "\n",
    "nums = [1, 3, 8, 20, -5, -13]\n",
    "# Using reduce to calculate the sum\n",
    "total_sum = reduce(add, nums)\n",
    "print('Total sum: ', total_sum)\n"
   ]
  },
  {
   "cell_type": "markdown",
   "metadata": {},
   "source": [
    "#### Multiplying numeric values\n",
    "By defining a multiplication function and passing it to reduce() along with an iterable like a list, we can calculate the product of all elements in the list"
   ]
  },
  {
   "cell_type": "code",
   "execution_count": 7,
   "metadata": {},
   "outputs": [
    {
     "name": "stdout",
     "output_type": "stream",
     "text": [
      "Total product: 1512\n"
     ]
    }
   ],
   "source": [
    "from functools import reduce\n",
    "# Function to multiply two numbers\n",
    "def multiply(a, b):\n",
    "    return a*b\n",
    "nums = [1, 4, 7, 3, -2, -9]\n",
    "# Using reduce to calculate the product\n",
    "total_product = reduce(multiply, nums)\n",
    "print('Total product:', total_product)"
   ]
  },
  {
   "cell_type": "markdown",
   "metadata": {},
   "source": [
    "#### Finding the Minimum and Maximum value\n",
    "Reduce in Python can calculate Minimum and Maximum values from the iterable by comparing items with the given iterable"
   ]
  },
  {
   "cell_type": "code",
   "execution_count": 8,
   "metadata": {},
   "outputs": [
    {
     "name": "stdout",
     "output_type": "stream",
     "text": [
      "The minimum in the given list is: -2\n",
      "The maximum in the given list is: 20\n"
     ]
    }
   ],
   "source": [
    "from functools import reduce\n",
    "# pre-defined function to calculate minimum\n",
    "def mini(a, b):\n",
    "    return a if a < b else b\n",
    "# pre-defined function to calculate maximum\n",
    "def maxi(a, b):\n",
    "    return a if a > b else b\n",
    "\n",
    "nums = [4, 6, 9, 20, 11, -2, 12, 3, 5]\n",
    "\n",
    "# Passing both functions in the reduce along with nums as iterable\n",
    "print('The minimum in the given list is:', reduce(mini, nums))\n",
    "print('The maximum in the given list is:', reduce(maxi, nums))"
   ]
  },
  {
   "cell_type": "markdown",
   "metadata": {},
   "source": [
    "#### Checking if all values are true\n",
    "To check whether all values in the given iterable are true or not, we can write a function that can takes two arguments and return true if both arguments are true. If one or both arguments are false, the function will return False"
   ]
  },
  {
   "cell_type": "code",
   "execution_count": 9,
   "metadata": {},
   "outputs": [
    {
     "name": "stdout",
     "output_type": "stream",
     "text": [
      "True\n",
      "False\n"
     ]
    }
   ],
   "source": [
    "from functools import reduce\n",
    "# creating a function to check if both arguments are True or not\n",
    "def is_true(a, b):\n",
    "    return bool(a and b)\n",
    "\n",
    "print(reduce(is_true, [1, 1, 1, 1,]))\n",
    "print(reduce(is_true, [1, 1, 1, 0]))"
   ]
  },
  {
   "cell_type": "markdown",
   "metadata": {},
   "source": [
    "#### Check if any value is true\n",
    "To check whether any value in the given iterable is True or not, we can write a function that takes two arguments and returns True if either one of the two arguments is true. If both argument are false, then the function will return False"
   ]
  },
  {
   "cell_type": "code",
   "execution_count": 10,
   "metadata": {},
   "outputs": [
    {
     "name": "stdout",
     "output_type": "stream",
     "text": [
      "True\n",
      "False\n"
     ]
    }
   ],
   "source": [
    "from functools import reduce\n",
    "# creating a function to check is both arguments are True or not\n",
    "def is_true(a, b):\n",
    "    return bool(a or b)\n",
    "\n",
    "print(reduce(is_true, [1, 1, 0, 1, 1]))\n",
    "print(reduce(is_true, [0, 0, 0, 0, 0]))"
   ]
  },
  {
   "cell_type": "markdown",
   "metadata": {},
   "source": [
    "#### Difference between Map and Reduce"
   ]
  },
  {
   "cell_type": "code",
   "execution_count": 11,
   "metadata": {},
   "outputs": [
    {
     "name": "stdout",
     "output_type": "stream",
     "text": [
      "<class 'map'>\n",
      "[6, 10]\n"
     ]
    }
   ],
   "source": [
    "# Using map function with lambda function on an iterable\n",
    "ans = map(lambda a: 2*a, [3, 5])\n",
    "# to check what is the type of map\n",
    "print(type(ans))\n",
    "\n",
    "print(list(ans))"
   ]
  },
  {
   "cell_type": "markdown",
   "metadata": {},
   "source": [
    "### Reduce () vs Accumulate()\n",
    "In the itertools module, a function named accumulated() is present, which takes an iterable as an argument. Sometimes, a function is also passed as an optional second argument\n",
    "Syntax:  itertools.accumulate(iterable)\n",
    "The accumulate function returns an iterator that consist of accumulated sums of every item in the iterable. So the working of accumulate varies from the reduce function where only a single value is the result"
   ]
  },
  {
   "cell_type": "code",
   "execution_count": 14,
   "metadata": {},
   "outputs": [
    {
     "name": "stdout",
     "output_type": "stream",
     "text": [
      "<class 'itertools.accumulate'>\n",
      "[1, 3, 6, 10]\n"
     ]
    }
   ],
   "source": [
    "from itertools import accumulate\n",
    "\n",
    "nums = [1, 2, 3, 4]\n",
    "\n",
    "# To check the return type of accumulate\n",
    "print(type(accumulate(nums)))\n",
    "\n",
    "print(list(accumulate(nums)))"
   ]
  },
  {
   "cell_type": "markdown",
   "metadata": {},
   "source": [
    "### Reduce vs Python for Loop\n",
    "A For loop can do the same thing that a reduce function does in Python, so there is no difference in the functionality between these two, but when it comes to the amount of code to be written to implement the same thing, reduce function has a big advantage over traditional python for loop"
   ]
  },
  {
   "cell_type": "code",
   "execution_count": 15,
   "metadata": {},
   "outputs": [
    {
     "name": "stdout",
     "output_type": "stream",
     "text": [
      "16\n",
      "16\n"
     ]
    }
   ],
   "source": [
    "from itertools import accumulate\n",
    "from functools import reduce\n",
    "\n",
    "nums = [1, 3, 5, 7]\n",
    "\n",
    "# Using for loop to calculate the sum of a list\n",
    "ans = 0\n",
    "for i in nums:\n",
    "    ans += i\n",
    "print(ans)\n",
    "\n",
    "print(reduce(lambda x, y: x+y, nums))\n"
   ]
  },
  {
   "cell_type": "markdown",
   "metadata": {},
   "source": [
    "### Reduce vs Python list comprehension\n",
    "Reduce in python returns a single value as a result, while a list comprehension when applied to a list, returns another list.\n",
    "Sometimes, like flattening a list of lists into a single list, we can use list comprehension. "
   ]
  },
  {
   "cell_type": "code",
   "execution_count": 16,
   "metadata": {},
   "outputs": [
    {
     "name": "stdout",
     "output_type": "stream",
     "text": [
      "[1, 2, 3, 4, 5, 6, 7, 8, 9]\n",
      "[1, 2, 3, 4, 5, 6, 7, 8, 9]\n"
     ]
    }
   ],
   "source": [
    "from functools import reduce\n",
    "# a 2D List\n",
    "matrix = [[1, 2, 3], [4, 5, 6], [7, 8, 9]]\n",
    "\n",
    "# Use reduce function for flattening a 2D list\n",
    "print(reduce(lambda x, y: x + y, matrix))\n",
    "\n",
    "# Using list comprehension\n",
    "print([i for row in matrix for i in row])"
   ]
  },
  {
   "cell_type": "markdown",
   "metadata": {},
   "source": [
    "### Reduce vs Itertools.accumulate\n",
    "Python offers two similar yet distinct functions for aggregating values in iterables: reduce() from the functools module and accumulate() from the itertools module. Both are used for performing computations over a list or other iterables, but they differ in their operation and output."
   ]
  },
  {
   "cell_type": "code",
   "execution_count": 18,
   "metadata": {},
   "outputs": [
    {
     "name": "stdout",
     "output_type": "stream",
     "text": [
      "10\n"
     ]
    }
   ],
   "source": [
    "from functools import reduce\n",
    "\n",
    "def add(a, b):\n",
    "    return a+b\n",
    "\n",
    "nums = [1, 2, 3, 4]\n",
    "print(reduce(add, nums))\n"
   ]
  },
  {
   "cell_type": "code",
   "execution_count": 19,
   "metadata": {},
   "outputs": [
    {
     "name": "stdout",
     "output_type": "stream",
     "text": [
      "[1, 3, 6, 10]\n"
     ]
    }
   ],
   "source": [
    "from itertools import accumulate\n",
    "\n",
    "nums = [1, 2, 3, 4]\n",
    "print(list(accumulate(nums, lambda a,b: a+b)))"
   ]
  },
  {
   "cell_type": "markdown",
   "metadata": {},
   "source": [
    "### Reduce() function with three parameters\n",
    "Reduce() places the 3rd parameters before the value of the second one if it's present. Thus, if the 2nd argument is an empty sequence, then the 3rd argument serves as the default one."
   ]
  },
  {
   "cell_type": "code",
   "execution_count": 21,
   "metadata": {},
   "outputs": [
    {
     "name": "stdout",
     "output_type": "stream",
     "text": [
      "70\n"
     ]
    }
   ],
   "source": [
    "from functools import reduce\n",
    "\n",
    "tupl = (1, 4, 8, 20, 34)\n",
    "\n",
    "# Using reduce with initialize = 3\n",
    "print(reduce(lambda x, y: x+y, tupl, 3))"
   ]
  }
 ],
 "metadata": {
  "kernelspec": {
   "display_name": "Python 3",
   "language": "python",
   "name": "python3"
  },
  "language_info": {
   "codemirror_mode": {
    "name": "ipython",
    "version": 3
   },
   "file_extension": ".py",
   "mimetype": "text/x-python",
   "name": "python",
   "nbconvert_exporter": "python",
   "pygments_lexer": "ipython3",
   "version": "3.11.4"
  }
 },
 "nbformat": 4,
 "nbformat_minor": 2
}
