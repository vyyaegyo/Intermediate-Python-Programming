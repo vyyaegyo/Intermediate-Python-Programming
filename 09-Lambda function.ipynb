{
 "cells": [
  {
   "cell_type": "markdown",
   "metadata": {},
   "source": [
    "# Lambda function"
   ]
  },
  {
   "cell_type": "markdown",
   "metadata": {},
   "source": [
    "### Definition\n",
    "The identity function, a function that returns its argument, is expressed with a standard Python function definition using the keyword def as follows:"
   ]
  },
  {
   "cell_type": "code",
   "execution_count": null,
   "metadata": {},
   "outputs": [],
   "source": [
    "def indentity(x):\n",
    "    return x"
   ]
  },
  {
   "cell_type": "code",
   "execution_count": null,
   "metadata": {},
   "outputs": [],
   "source": [
    "# In contrast, if you use a Python lambda construction, you get the following:\n",
    "lambda x: x"
   ]
  },
  {
   "cell_type": "markdown",
   "metadata": {},
   "source": [
    "In the example above, the expression is composed of:\n",
    "\n",
    "The keyword: lambda\n",
    "A bound variable: x\n",
    "A body: x\n",
    "Note: In the context of this article, a bound variable is an argument to a lambda function.\n",
    "\n",
    "In contrast, a free variable is not bound and may be referenced in the body of the expression. A free variable can be a constant or a variable defined in the enclosing scope of the function."
   ]
  },
  {
   "cell_type": "code",
   "execution_count": 1,
   "metadata": {},
   "outputs": [
    {
     "name": "stdout",
     "output_type": "stream",
     "text": [
      "Full name: Guido Van Rossum\n"
     ]
    }
   ],
   "source": [
    "full_name = lambda first, last: f'Full name: {first.title()} {last.title()}'\n",
    "print(full_name('guido', 'van rossum'))"
   ]
  },
  {
   "cell_type": "markdown",
   "metadata": {},
   "source": [
    "### Arguments\n",
    "Like a normal function object defined with def, Python lambda expressions support all the different ways of passing arguments. This includes:\n",
    "Positional arguments\n",
    "Named arguments (sometimes called keyword arguments)\n",
    "Variable list of arguments (often referred to as varargs)\n",
    "Variable list of keyword arguments\n",
    "Keyword-only arguments"
   ]
  },
  {
   "cell_type": "code",
   "execution_count": 3,
   "metadata": {},
   "outputs": [
    {
     "name": "stdout",
     "output_type": "stream",
     "text": [
      "6\n",
      "6\n",
      "6\n",
      "6\n",
      "6\n",
      "6\n"
     ]
    }
   ],
   "source": [
    "print((lambda x, y, z: x + y + z)(1, 2, 3))\n",
    "\n",
    "print((lambda x, y, z=3: x + y + z)(1, 2))\n",
    "\n",
    "print((lambda x, y, z=3: x + y + z)(1, y=2))\n",
    "\n",
    "print((lambda *args: sum(args))(1,2,3))\n",
    "\n",
    "print((lambda **kwargs: sum(kwargs.values()))(one=1, two=2, three=3))\n",
    "\n",
    "print((lambda x, *, y=0, z=0: x + y + z)(1, y=2, z=3))\n"
   ]
  },
  {
   "cell_type": "markdown",
   "metadata": {},
   "source": [
    "### Decorators\n",
    "In Python, a decorator is the implementation of a pattern that allows adding a behavior to a function or a class"
   ]
  },
  {
   "cell_type": "code",
   "execution_count": 4,
   "metadata": {},
   "outputs": [],
   "source": [
    "def some_decorator(f):\n",
    "    def wraps(*args):\n",
    "        print(f\"Calling function '{f.__name__}'\")\n",
    "        return f(args)\n",
    "    return wraps\n",
    "\n",
    "@some_decorator\n",
    "def decorated_function(x):\n",
    "    print(f\"With argument '{x}'\")"
   ]
  },
  {
   "cell_type": "code",
   "execution_count": 5,
   "metadata": {},
   "outputs": [
    {
     "name": "stdout",
     "output_type": "stream",
     "text": [
      "[TRACE] func: add_two, args: (3,), kwargs: {}\n",
      "[TRACE] func: <lambda>, args: (3,), kwargs: {}\n",
      "9\n"
     ]
    }
   ],
   "source": [
    "# Defining a decorator\n",
    "def trace(f):\n",
    "    def wrap(*args, **kwargs):\n",
    "        print(f\"[TRACE] func: {f.__name__}, args: {args}, kwargs: {kwargs}\")\n",
    "        return f(*args, **kwargs)\n",
    "\n",
    "    return wrap\n",
    "\n",
    "# Applying decorator to a function\n",
    "@trace\n",
    "def add_two(x):\n",
    "    return x + 2\n",
    "\n",
    "# Calling the decorated function\n",
    "add_two(3)\n",
    "\n",
    "# Applying decorator to a lambda\n",
    "print((trace(lambda x: x ** 2))(3))"
   ]
  },
  {
   "cell_type": "markdown",
   "metadata": {},
   "source": [
    "Code explanation:\n",
    "The trace function is defined as a decorator. It takes a function f as an argument and returns a new function wrap. The wrap function prints a trace message before calling the original function f with the provided arguments and keyword arguments.\n",
    "\n",
    "The @trace syntax is used to apply the trace decorator to the add_two function. This means that calls to add_two will be intercepted by the wrap function defined in the trace decorator.\n",
    "\n",
    "The add_two function simply adds 2 to the input x and returns the result.\n",
    "\n",
    "The decorated add_two function is called with the argument 3. This triggers the trace message to be printed before the function is executed, showing the function name, arguments, and keyword arguments.\n",
    "\n",
    "The trace decorator is also applied directly to a lambda function that squares the input x. The decorator is applied inline, and the result is immediately printed. This demonstrates that decorators can be applied to any callable object, including lambda functions."
   ]
  },
  {
   "cell_type": "markdown",
   "metadata": {},
   "source": [
    "### Closure\n",
    "A closure is a function where every free variable, everything except parameters, used in that function is bound to a specific value defined in the enclosing scope of that function. In effect, closures define the environment in which they run, and so can be called from anywhere.\n",
    "The concepts of lambdas and closures are not necessarily related, although lambda functions can be closures in the same way that normal functions can also be closures."
   ]
  },
  {
   "cell_type": "code",
   "execution_count": 8,
   "metadata": {},
   "outputs": [
    {
     "name": "stdout",
     "output_type": "stream",
     "text": [
      "x = 0, y = 4, z = 5\n",
      "closure(5) = 9\n",
      "x = 1, y = 4, z = 6\n",
      "closure(6) = 11\n",
      "x = 2, y = 4, z = 7\n",
      "closure(7) = 13\n"
     ]
    }
   ],
   "source": [
    "def outer_func(x):\n",
    "    y = 4\n",
    "    def inner_func(z):\n",
    "        print(f\"x = {x}, y = {y}, z = {z}\")\n",
    "        return x + y + z\n",
    "    return inner_func\n",
    "\n",
    "for i in range (3):\n",
    "    closure = outer_func(i)\n",
    "    print(f\"closure({i+5}) = {closure(i+5)}\")"
   ]
  },
  {
   "cell_type": "code",
   "execution_count": 9,
   "metadata": {},
   "outputs": [
    {
     "name": "stdout",
     "output_type": "stream",
     "text": [
      "closure(5) = 9\n",
      "closure(6) = 11\n",
      "closure(7) = 13\n"
     ]
    }
   ],
   "source": [
    "def outer_func(x):\n",
    "    y = 4\n",
    "    return lambda z: x + y + z\n",
    "for i in range(3):\n",
    "    closure = outer_func(i)\n",
    "    print(f\"closure({i+5}) = {closure(i+5)}\")"
   ]
  },
  {
   "cell_type": "markdown",
   "metadata": {},
   "source": [
    "### Evaluation time\n",
    "In some situations involving loops, the behavior of a Python lambda function as a closure may be counterintuitive. It requires understanding when free variables are bound in the context of a lambda. The following examples demonstrate the difference when using a regular function vs using a Python lambda."
   ]
  },
  {
   "cell_type": "code",
   "execution_count": 10,
   "metadata": {},
   "outputs": [
    {
     "name": "stdout",
     "output_type": "stream",
     "text": [
      "one\n",
      "two\n",
      "three\n"
     ]
    }
   ],
   "source": [
    "def wrap(n):\n",
    "    def f():\n",
    "        print(n)\n",
    "    return f\n",
    "\n",
    "numbers = 'one', 'two', 'three'\n",
    "funcs = []\n",
    "for n in numbers:\n",
    "    funcs.append(wrap(n))\n",
    "\n",
    "for f in funcs:\n",
    "    f()"
   ]
  },
  {
   "cell_type": "code",
   "execution_count": 12,
   "metadata": {},
   "outputs": [
    {
     "name": "stdout",
     "output_type": "stream",
     "text": [
      "one\n",
      "two\n",
      "three\n"
     ]
    }
   ],
   "source": [
    "#A Python lambda function behaves like a normal function in regard to arguments. \n",
    "#Therefore, a lambda parameter can be initialized with a default value: the parameter n takes the outer n as a default value.\n",
    "#The Python lambda function could have been written as lambda x=n: print(x) and have the same result\n",
    "numbers = 'one', 'two', 'three'\n",
    "funcs = []\n",
    "for n in numbers:\n",
    "    funcs.append(lambda n=n: print(n))\n",
    "\n",
    "for f in funcs:\n",
    "    f()"
   ]
  },
  {
   "cell_type": "markdown",
   "metadata": {},
   "source": [
    "### Python Classes"
   ]
  },
  {
   "cell_type": "code",
   "execution_count": 14,
   "metadata": {},
   "outputs": [],
   "source": [
    "def __str__(self):\n",
    "    return f'{self.brand} {self.year}'\n",
    "\n",
    "@property\n",
    "def brand(self):\n",
    "    return self.brand\n",
    "@brand.setter\n",
    "def brand(self,value):\n",
    "    self._brand = value\n",
    "\n",
    "class Car:\n",
    "    \"\"\"Car with methods as lambda functions.\"\"\"\n",
    "    def __init__(self, brand, year):\n",
    "        self.brand = brand\n",
    "        self.year = year\n",
    "\n",
    "    brand = property(lambda self: getattr(self, '_brand'),\n",
    "                     lambda self, value: setattr(self, '_brand', value))\n",
    "\n",
    "    year = property(lambda self: getattr(self, '_year'),\n",
    "                    lambda self, value: setattr(self, '_year', value))\n",
    "\n",
    "    __str__ = lambda self: f'{self.brand} {self.year}'  # 1: error E731\n",
    "\n",
    "    honk = lambda self: print('Honk!')     # 2: error E731"
   ]
  },
  {
   "cell_type": "markdown",
   "metadata": {},
   "source": [
    "### ALternative to Lambda\n",
    "Higher-order functions like map(), filter(), and functools.reduce() can be converted to more elegant forms with slight twists of creativity, in particular with list comprehensions or generator expressions."
   ]
  },
  {
   "cell_type": "markdown",
   "metadata": {},
   "source": [
    "#### Map\n",
    "The built-in function map() takes a function as a first argument and applies it to each of the elements of its second argument, an iterable. Examples of iterables are strings, lists, and tuples. For more information on iterables and iterators, check out Iterables and Iterators.\n",
    "\n",
    "map() returns an iterator corresponding to the transformed collection. "
   ]
  },
  {
   "cell_type": "code",
   "execution_count": 15,
   "metadata": {},
   "outputs": [
    {
     "name": "stdout",
     "output_type": "stream",
     "text": [
      "['Cat', 'Dog', 'Cow']\n"
     ]
    }
   ],
   "source": [
    "print(list(map(lambda x: x.capitalize(), ['cat', 'dog', 'cow'])))"
   ]
  },
  {
   "cell_type": "markdown",
   "metadata": {},
   "source": [
    "#### Filter\n",
    "The built-in function filter() can be converted into a list comprehension. It takes a predicate as a first argument and an iterable as a second argument. It builds an iterator containing all the elements of the initial collection that satisfies the predicate function."
   ]
  },
  {
   "cell_type": "code",
   "execution_count": 16,
   "metadata": {},
   "outputs": [
    {
     "name": "stdout",
     "output_type": "stream",
     "text": [
      "[0, 2, 4, 6, 8, 10]\n"
     ]
    }
   ],
   "source": [
    "even = lambda x: x%2 == 0\n",
    "print(list(filter(even, range(11))))"
   ]
  },
  {
   "cell_type": "markdown",
   "metadata": {},
   "source": [
    "#### Reduce\n",
    " Reduce() has gone from a built-in function to a functools module function. As map() and filter(), its first two arguments are respectively a function and an iterable. It may also take an initializer as a third argument that is used as the initial value of the resulting accumulator. For each element of the iterable, reduce() applies the function and accumulates the result that is returned when the iterable is exhausted."
   ]
  },
  {
   "cell_type": "code",
   "execution_count": 17,
   "metadata": {},
   "outputs": [
    {
     "data": {
      "text/plain": [
       "6"
      ]
     },
     "execution_count": 17,
     "metadata": {},
     "output_type": "execute_result"
    }
   ],
   "source": [
    "import functools\n",
    "pairs = [(1, 'a'), (2, 'b'), (3, 'c')]\n",
    "functools.reduce(lambda acc, pair: acc + pair[0], pairs, 0)\n"
   ]
  }
 ],
 "metadata": {
  "kernelspec": {
   "display_name": "Python 3",
   "language": "python",
   "name": "python3"
  },
  "language_info": {
   "codemirror_mode": {
    "name": "ipython",
    "version": 3
   },
   "file_extension": ".py",
   "mimetype": "text/x-python",
   "name": "python",
   "nbconvert_exporter": "python",
   "pygments_lexer": "ipython3",
   "version": "3.11.4"
  }
 },
 "nbformat": 4,
 "nbformat_minor": 2
}
