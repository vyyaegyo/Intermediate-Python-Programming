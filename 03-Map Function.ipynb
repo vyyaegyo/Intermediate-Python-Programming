{
 "cells": [
  {
   "cell_type": "markdown",
   "metadata": {},
   "source": [
    "# Map function\n",
    "\n",
    "We can use the Python built-in function map() to apply a function to each item in an iterable (like a list or dictionary) and return a new iterator for retrieving the results. map() returns a map object (an iterator), which we can use in other parts of our program. We can also pass the map object to the list() function, or another sequence type, to create an iterable.\n",
    "The syntax for the map() function is as follows:"
   ]
  },
  {
   "cell_type": "code",
   "execution_count": null,
   "metadata": {},
   "outputs": [],
   "source": [
    "map(function, iterable, [iterable2, iterable3, ...]"
   ]
  },
  {
   "cell_type": "code",
   "execution_count": null,
   "metadata": {},
   "outputs": [
    {
     "name": "stdout",
     "output_type": "stream",
     "text": [
      "[1, 4, 9, 16, 25, 36]\n"
     ]
    }
   ],
   "source": [
    "nums = (1, 2, 3, 4, 5, 6)\n",
    "\n",
    "def square(n):\n",
    "    return n * n\n",
    "\n",
    "nums_squared = map(square, nums)\n",
    "print(list(nums_squared))"
   ]
  },
  {
   "cell_type": "code",
   "execution_count": null,
   "metadata": {},
   "outputs": [
    {
     "name": "stdout",
     "output_type": "stream",
     "text": [
      "<map object at 0x110fe4d00>\n",
      "<map object at 0x110fe4130>\n",
      "<map object at 0x110fe54b0>\n",
      "[2, 4, 6, 8, 10, 12]\n",
      "(2, 4, 6, 8, 10, 12)\n",
      "{2, 4, 6, 8, 10, 12}\n"
     ]
    }
   ],
   "source": [
    "# Map with list, tuple or set of numbers\n",
    "num_list = [1, 2, 3, 4, 5, 6]\n",
    "num_tuple = (1, 2 , 3, 4, 5, 6)\n",
    "num_set = {1, 2, 3, 4, 5, 6}\n",
    "\n",
    "def double(n):\n",
    "    return n * 2\n",
    "result_list = map(double, num_list)\n",
    "result_tuple = map(double, num_tuple)\n",
    "result_set = map(double, num_set)\n",
    "\n",
    "# Map objects\n",
    "print(result_list)\n",
    "print(result_tuple)\n",
    "print(result_set)\n",
    "\n",
    "# Convert Map objects back to list, tupler\n",
    "print(list(result_list))\n",
    "print(tuple(result_tuple))\n",
    "print(set(result_set))\n"
   ]
  },
  {
   "cell_type": "markdown",
   "metadata": {},
   "source": [
    "Instead of using a for loop, the map() function in Python offers a convenient way to apply a function to each item in an iterable. This approach can be more efficient because it applies the function to one item at a time, avoiding the need to create additional copies of the items. This is especially beneficial when working with large data sets, as it reduces memory usage. Additionally, map() has the ability to take multiple iterables and send one item from each iterable to the function at a time. This versatility allows for more flexible and concise code. Overall, map() provides a performance advantage and simplifies the process of applying a function to every item in an iterable.\n",
    "There are three different ways of working with map(): with a lambda function, with a user-define function, with a built-in function using multiple iterable arguments."
   ]
  },
  {
   "cell_type": "markdown",
   "metadata": {},
   "source": [
    "### Using a Lambda function\n",
    "A lambda function is a small anonymous function. A lambda function can take any number of arguments, but can only have one expression\n",
    "The syntax of map() with a lambda function is as follows:"
   ]
  },
  {
   "cell_type": "code",
   "execution_count": null,
   "metadata": {},
   "outputs": [],
   "source": [
    "map(lambda item: item[] expression, iterable)"
   ]
  },
  {
   "cell_type": "code",
   "execution_count": 1,
   "metadata": {},
   "outputs": [
    {
     "name": "stdout",
     "output_type": "stream",
     "text": [
      "15\n"
     ]
    }
   ],
   "source": [
    "# Add 10 to argument a, and return the result:\n",
    "x = lambda a : a + 10\n",
    "print(x(5))"
   ]
  },
  {
   "cell_type": "code",
   "execution_count": 2,
   "metadata": {},
   "outputs": [
    {
     "name": "stdout",
     "output_type": "stream",
     "text": [
      "30\n"
     ]
    }
   ],
   "source": [
    "# Multiply argument a with argument b and return the result:\n",
    "x = lambda a, b : a * b\n",
    "print(x(5,6))"
   ]
  },
  {
   "cell_type": "code",
   "execution_count": 3,
   "metadata": {},
   "outputs": [
    {
     "name": "stdout",
     "output_type": "stream",
     "text": [
      "13\n"
     ]
    }
   ],
   "source": [
    "# Summarize argument a, b, and c and return the result:\n",
    "x = lambda a, b, c : a + b + c\n",
    "print(x(5, 6, 2))"
   ]
  },
  {
   "cell_type": "markdown",
   "metadata": {},
   "source": [
    "The power of lambda is better shown when you use them as an anonymous function inside another function."
   ]
  },
  {
   "cell_type": "code",
   "execution_count": 4,
   "metadata": {},
   "outputs": [
    {
     "name": "stdout",
     "output_type": "stream",
     "text": [
      "22\n"
     ]
    }
   ],
   "source": [
    "def myfunc(n):\n",
    "    # Return a lambda function that multiplies its input 'a' by 'n'\n",
    "    return lambda a : a * n\n",
    "# Create a lambda function that doubles its input \n",
    "mydoubler = myfunc(2)\n",
    "# Call the lambda function with 'a' equal to 11\n",
    "print(mydoubler(11))"
   ]
  },
  {
   "cell_type": "code",
   "execution_count": 5,
   "metadata": {},
   "outputs": [
    {
     "name": "stdout",
     "output_type": "stream",
     "text": [
      "33\n"
     ]
    }
   ],
   "source": [
    "def myfunc(n):\n",
    "    return lambda a : a* n\n",
    "mytripler = myfunc(3)\n",
    "print(mytripler(11))"
   ]
  },
  {
   "cell_type": "code",
   "execution_count": 6,
   "metadata": {},
   "outputs": [
    {
     "name": "stdout",
     "output_type": "stream",
     "text": [
      "20\n",
      "33\n"
     ]
    }
   ],
   "source": [
    "def myfunc(n):\n",
    "    return lambda a : a * n\n",
    "mydoubler = myfunc(2)\n",
    "mytripler = myfunc(3)\n",
    "print(mydoubler(10))\n",
    "print(mytripler(11))"
   ]
  },
  {
   "cell_type": "markdown",
   "metadata": {},
   "source": [
    "### Implementing a User-defined function\n",
    "Similarly to a lambda we can use a function we have defined to apply to an iterable. While lambda functions are more useful to implement when you’re working with a one-line expression, user-defined functions are more appropriate when the expression grows in complexity. Furthermore, when we need to pass another piece of data to the function that you’re applying to your iterable, user-defined functions can be a better choice for readability."
   ]
  },
  {
   "cell_type": "code",
   "execution_count": 8,
   "metadata": {},
   "outputs": [
    {
     "name": "stdout",
     "output_type": "stream",
     "text": [
      "[{'name': 'sammy', 'species': 'shark', 'tank number': 42, 'type': 'fish'}, {'name': 'ashley', 'species': 'crab', 'tank number': 42, 'type': 'shellfish'}, {'name': 'jo', 'species': 'guppy', 'tank number': 42, 'type': 'fish'}, {'name': 'jackie', 'species': 'lobster', 'tank number': 42, 'type': 'shellfish'}, {'name': 'charlie', 'species': 'clownfish', 'tank number': 42, 'type': 'fish'}, {'name': 'olly', 'species': 'green turtle', 'tank number': 42, 'type': 'turtle'}]\n"
     ]
    }
   ],
   "source": [
    "# Initial list of aquarium creatures\n",
    "aquarium_creatures = [\n",
    "\t{\"name\": \"sammy\", \"species\": \"shark\", \"tank number\": 11, \"type\": \"fish\"},\n",
    "\t{\"name\": \"ashley\", \"species\": \"crab\", \"tank number\": 25, \"type\": \"shellfish\"},\n",
    "\t{\"name\": \"jo\", \"species\": \"guppy\", \"tank number\": 18, \"type\": \"fish\"},\n",
    "\t{\"name\": \"jackie\", \"species\": \"lobster\", \"tank number\": 21, \"type\": \"shellfish\"},\n",
    "\t{\"name\": \"charlie\", \"species\": \"clownfish\", \"tank number\": 12, \"type\": \"fish\"},\n",
    "\t{\"name\": \"olly\", \"species\": \"green turtle\", \"tank number\": 34, \"type\": \"turtle\"}\n",
    "]\n",
    "# Function to assign a new tank number to all creatures in the list\n",
    "def assign_to_tank(aquarium_creatures, new_tank_number):\n",
    "    # Inner function to apply the tank number update to a single creature\n",
    "    def apply(x):\n",
    "        x[\"tank number\"] = new_tank_number # Update the tank number\n",
    "        return x # Return the updated creature dictionary\n",
    "    # Use the map function to apply the 'apply' function to each creature in the list\n",
    "    return map(apply, aquarium_creatures)\n",
    "# Assign new tank number 42 to all creatures\n",
    "assign_tanks = assign_to_tank(aquarium_creatures, 42)\n",
    "# Convert the map object to a list and print the result\n",
    "print(list(assign_tanks))"
   ]
  },
  {
   "cell_type": "markdown",
   "metadata": {},
   "source": [
    "### Using a built-in function with muitiple iterables\n",
    "In the same way as lambda functions or our own defined functions, we can use Python built-in functions with map(). To apply a function with multiple iterables, we pass in another iterable name following the first one. For example, using the pow() function that takes in two numbers to find the power of the base number to the provided exponent."
   ]
  },
  {
   "cell_type": "code",
   "execution_count": 9,
   "metadata": {},
   "outputs": [
    {
     "name": "stdout",
     "output_type": "stream",
     "text": [
      "[2, 16, 216, 4096, 100000]\n"
     ]
    }
   ],
   "source": [
    "base_number = [2, 4, 6, 8, 10]\n",
    "powers = [1, 2, 3, 4, 5]\n",
    "# The pow function takes two arguments: a base and an exponent, and returns the base raised to the power of the exponent.\n",
    "numbers_powers = list(map(pow, base_number, powers))\n",
    "print(numbers_powers)"
   ]
  }
 ],
 "metadata": {
  "kernelspec": {
   "display_name": "base",
   "language": "python",
   "name": "python3"
  },
  "language_info": {
   "codemirror_mode": {
    "name": "ipython",
    "version": 3
   },
   "file_extension": ".py",
   "mimetype": "text/x-python",
   "name": "python",
   "nbconvert_exporter": "python",
   "pygments_lexer": "ipython3",
   "version": "3.11.4"
  }
 },
 "nbformat": 4,
 "nbformat_minor": 2
}
