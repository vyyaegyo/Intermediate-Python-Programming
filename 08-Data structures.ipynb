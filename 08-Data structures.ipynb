{
 "cells": [
  {
   "cell_type": "markdown",
   "metadata": {},
   "source": [
    "# Python Data Structures: Lists, Dictionaries, Sets, Tuples\n"
   ]
  },
  {
   "cell_type": "markdown",
   "metadata": {},
   "source": [
    "## Data structures in Python\n",
    "Built-in data structures in Python can be divided into two broad categories: mutable and immutable. Mutable (from Latin mutabilis, \"changeable\") data structures are those which we can modify -- for example, by adding, removing, or changing their elements. Python has three mutable data structures: lists, dictionaries, and sets. Immutable data structures, on the other hand, are those that we cannot modify after their creation. The only basic built-in immutable data structure in Python is a tuple."
   ]
  },
  {
   "cell_type": "markdown",
   "metadata": {},
   "source": [
    "### Lists\n",
    "Lists in Python are implemented as dynamic mutable arrays which hold an ordered collection of items.\n",
    "In Python, lists can contain heterogeneous data types and objects. For instance, integers, strings, and even functions can be stored within the same list. \n",
    "We can arbitrarily add, remove, and change elements in the list. For instance, the .append() method adds a new element to a list, and the .remove() method removes an element from a list.\n",
    "When creating a list, we do not have to specify in advance the number of elements it will contain.\n",
    "Thus, the pros of lists are:\n",
    "   They represent the easiest way to store a collection of related objects.\n",
    "   They are easy to modify by removing, adding, and changing elements.\n",
    "   They are useful for creating nested data structures, such as a list of lists/dictionaries.\n",
    "However, they also have cons:\n",
    "   They can be pretty slow when performing arithmetic operations on their elements. (For speed, use NumPy's arrays.)\n",
    "   They use more disk space because of their under-the-hood implementation."
   ]
  },
  {
   "cell_type": "code",
   "execution_count": 1,
   "metadata": {},
   "outputs": [
    {
     "name": "stdout",
     "output_type": "stream",
     "text": [
      "List l1: []\n",
      "List l2: [1, 2, '3', 4]\n",
      "List l3: []\n",
      "List l4: [1, 2, 3]\n"
     ]
    }
   ],
   "source": [
    "# Create an empty list using square brackets\n",
    "l1 = []\n",
    "\n",
    "# Create a four-element list using square brackets\n",
    "l2 = [1, 2, \"3\", 4]  # Note that this lists contains two different data types: integers and strings\n",
    "\n",
    "# Create an empty list using the list() constructor\n",
    "l3 = list()\n",
    "\n",
    "# Create a three-element list from a tuple using the list() constructor\n",
    "l4 = list((1, 2, 3))\n",
    "\n",
    "# Print out lists\n",
    "print(f\"List l1: {l1}\")\n",
    "print(f\"List l2: {l2}\")\n",
    "print(f\"List l3: {l3}\")\n",
    "print(f\"List l4: {l4}\")"
   ]
  },
  {
   "cell_type": "code",
   "execution_count": 2,
   "metadata": {},
   "outputs": [
    {
     "name": "stdout",
     "output_type": "stream",
     "text": [
      "True\n",
      "c\n",
      "[1, 2]\n"
     ]
    }
   ],
   "source": [
    "# Accessing data (Indexing)\n",
    "list1 = [1, 2, 2, True, 'a', 'a', 'c']\n",
    "print(list1[3])  # Access at index\n",
    "print(list1[-1]) # Access from back\n",
    "print(list1[0:2]) # Slice"
   ]
  },
  {
   "cell_type": "code",
   "execution_count": 6,
   "metadata": {},
   "outputs": [
    {
     "name": "stdout",
     "output_type": "stream",
     "text": [
      "Append 3 to the list 1: \n",
      "[1, 2, 2, True, 'a', 'a', 'c', 3]\n",
      "Removed element 3 from the list 1: \n",
      "[1, 2, 2, True, 'a', 'a', 'c']\n",
      "Modified list 1: \n",
      "[1, 5, 2, True, 'a', 'a', 'c']\n"
     ]
    }
   ],
   "source": [
    "list1 = [1, 2, 2, True, 'a', 'a', 'c']\n",
    "\n",
    "# Append a new element to the list 1\n",
    "list1.append(3)\n",
    "\n",
    "# Print the modified list\n",
    "print(\"Append 3 to the list 1: \")\n",
    "print(list1)\n",
    "\n",
    "# Remove element 3 from the list 1\n",
    "list1.remove(3)\n",
    "\n",
    "#Print the modified list\n",
    "print(\"Removed element 3 from the list 1: \")\n",
    "print(list1)\n",
    "\n",
    "# Change value at index 2 in list 1\n",
    "list1[1] = 5\n",
    "\n",
    "# Print the modified list 1\n",
    "print(\"Modified list 1: \")\n",
    "print(list1)"
   ]
  },
  {
   "cell_type": "markdown",
   "metadata": {},
   "source": [
    "### Dictionaries\n",
    "Dictionaries in Python are very similar to real-world dictionaries. These are mutable data structures that contain a collection of keys and, associated with them, values.\n",
    "We use dictionaries when we are able to associate (in technical terms, to map) a unique key to certain data, and we want to access that data very quickly (in constant time, no matter the dictionary size). Moreover, dictionary values can be pretty complex. For example, our keys can be customer names, and their personal data (values) can be dictionaries with the keys like \"Age,\" \"Hometown,\" etc.\n",
    "Thus, the pros of dictionaries are:\n",
    "\n",
    "They make code much easier to read if we need to generate key:value pairs. We can also do the same with a list of lists (where inner lists are pairs of \"keys\" and \"values\"), but this looks more complex and confusing.\n",
    "We can look up a certain value in a dictionary very quickly. Instead, with a list, we would have to read the list before we hit the required element. This difference grows drastically if we increase the number of elements.\n",
    "However, their cons are:\n",
    "\n",
    "They occupy a lot of space. If we need to handle a large amount of data, this is not the most suitable data structure.\n",
    "In Python 3.6.0 and later versions, dictionaries remember the order of element insertions. Keep that in mind to avoid compatibility issues when using the same code in different versions of Python.\n"
   ]
  },
  {
   "cell_type": "code",
   "execution_count": 7,
   "metadata": {},
   "outputs": [
    {
     "name": "stdout",
     "output_type": "stream",
     "text": [
      "{'1': 2}\n",
      "2\n"
     ]
    }
   ],
   "source": [
    "# Create dictionary with duplicate keys\n",
    "d1 = {\"1\": 1, \"1\": 2}\n",
    "print(d1)\n",
    "\n",
    "# It will only print one key, although no error was thrown\n",
    "# If we  try to access this key, then it'll return 2, so the value of the second key\n",
    "print(d1[\"1\"])\n",
    "\n",
    "# It is technically possible to create a dictionary, although this dictionary will not support them,\n",
    "# and will contain only one of the key\n"
   ]
  },
  {
   "cell_type": "code",
   "execution_count": 8,
   "metadata": {},
   "outputs": [
    {
     "name": "stdout",
     "output_type": "stream",
     "text": [
      "Dictionary d1: {}\n",
      "Dictionary d2: {'John': {'Age': 27, 'Hometown': 'Boston'}, 'Rebecca': {'Age': 31, 'Hometown': 'Chicago'}}\n",
      "Dictionary d3: {}\n",
      "Dictionary d4: {'one': 1, 'two': 2}\n"
     ]
    }
   ],
   "source": [
    "# Create an empty dictionary using curly brackets\n",
    "d1 = {}\n",
    "\n",
    "# Create a two-element dictionary using curly brackets\n",
    "d2 = {\"John\": {\"Age\": 27, \"Hometown\": \"Boston\"}, \"Rebecca\": {\"Age\": 31, \"Hometown\": \"Chicago\"}}\n",
    "# Note that the above dictionary has a more complex structure as its values are dictionaries themselves!\n",
    "\n",
    "# Create an empty dictionary using the dict() constructor\n",
    "d3 = dict()\n",
    "\n",
    "# Create a two-element dictionary using the dict() constructor\n",
    "d4 = dict([[\"one\", 1], [\"two\", 2]])  # Note that we created the dictionary from a list of lists\n",
    "\n",
    "# Print out dictionaries\n",
    "print(f\"Dictionary d1: {d1}\")\n",
    "print(f\"Dictionary d2: {d2}\")\n",
    "print(f\"Dictionary d3: {d3}\")\n",
    "print(f\"Dictionary d4: {d4}\")"
   ]
  },
  {
   "cell_type": "code",
   "execution_count": 12,
   "metadata": {},
   "outputs": [
    {
     "name": "stdout",
     "output_type": "stream",
     "text": [
      "cherry\n",
      "dict_keys([1, 2, 3])\n",
      "dict_values(['apple', 'cherry', 'strawberry'])\n",
      "dict_items([(1, 'apple'), (2, 'cherry'), (3, 'strawberry')])\n",
      "{1: 'apple', 2: 'cherry', 3: 'strawberry', 4: 'Violet'}\n"
     ]
    }
   ],
   "source": [
    "# Accessing data (Indexing)\n",
    "dict1 = dict({1: \"apple\", 2: \"cherry\", 3: \"strawberry\"})\n",
    "print(dict1[2])   # Access at key\n",
    "print(dict1.keys())  # Keys\n",
    "print(dict1.values())  # Values\n",
    "print(dict1.items()) # Key value Pairs\n",
    "\n",
    "# Add another name to the dictionary 1\n",
    "dict1[4] = \"Violet\"\n",
    "print(dict1)"
   ]
  },
  {
   "cell_type": "markdown",
   "metadata": {},
   "source": [
    "### Sets\n",
    "Sets in Python can be defined as mutable dynamic collections of immutable unique elements. The elements contained in a set must be immutable. Sets may seem very similar to lists, but in reality, they are very different.\n",
    "First, they may only contain unique elements, so no duplicates are allowed. Thus, sets can be used to remove duplicates from a list. Next, like sets in mathematics, they have unique operations which can be applied to them, such as set union, intersection, etc. Finally, they are very efficient in checking whether a specific element is contained in a set.\n",
    "\n",
    "Thus, the pros of sets are:\n",
    "\n",
    "We can perform unique (but similar) operations on them.\n",
    "They are significantly faster than lists if we want to check whether a certain element is contained in a set.\n",
    "But their cons are:\n",
    "\n",
    "Sets are intrinsically unordered. If we care about keeping the insertion order, they are not our best choice.\n",
    "We cannot change set elements by indexing as we can with lists."
   ]
  },
  {
   "cell_type": "code",
   "execution_count": 13,
   "metadata": {},
   "outputs": [
    {
     "name": "stdout",
     "output_type": "stream",
     "text": [
      "Set s1: {1, 2, 3}\n",
      "Set s2: {1, 2, 3, 4}\n"
     ]
    }
   ],
   "source": [
    "# Create a set using curly brackets\n",
    "s1 = {1, 2, 3}\n",
    "\n",
    "# Create a set using the set() constructor\n",
    "s2 = set([1, 2, 3, 4])\n",
    "\n",
    "# Print out sets\n",
    "print(f\"Set s1: {s1}\")\n",
    "print(f\"Set s2: {s2}\")"
   ]
  },
  {
   "cell_type": "code",
   "execution_count": 17,
   "metadata": {},
   "outputs": [
    {
     "name": "stdout",
     "output_type": "stream",
     "text": [
      "{'Tony', 'Emmanuel', 'Joel', 'Dennis', 'Glory', 'Diego', 'Morgan'}\n",
      "{'Tony', 'Emmanuel', 'Joel', 'Dennis', 'Glory', 'Diego', 'Morgan'}\n",
      "{'Joel', 'Tony'}\n",
      "{'Joel', 'Tony'}\n",
      "{'Dennis', 'Glory'}\n"
     ]
    }
   ],
   "source": [
    "# Create two new sets\n",
    "names1 = set([\"Glory\", \"Tony\", \"Joel\", \"Dennis\"])\n",
    "names2 = set([\"Morgan\", \"Joel\", \"Tony\", \"Emmanuel\", \"Diego\"])\n",
    "\n",
    "# Create a union of two sets using the union() method\n",
    "names_union_1 = names1.union(names2)\n",
    "\n",
    "# Create a union of two sets using the | operator\n",
    "names_union_2 = names1 | names2\n",
    "\n",
    "# Print out the resulting union\n",
    "print(names_union_1)\n",
    "print(names_union_2)\n",
    "\n",
    "# Intersection of two sets using the intersection() method\n",
    "names_intersection = names1.intersection(names2)\n",
    "\n",
    "# Intersection of two sets using the & operator\n",
    "names_intersection_2 = names1 & names2\n",
    "\n",
    "# Print out\n",
    "print(names_intersection)\n",
    "print(names_intersection_2)\n",
    "\n",
    "# Create a set of all the names present in names1 but absent in names2 with the difference() method\n",
    "names_difference = names1.difference(names2)\n",
    "\n",
    "# Create a set of all the names present in names1 but absent in names2 with the - operator\n",
    "names_difference = names1 - names2\n",
    "\n",
    "# Print out the resulting difference\n",
    "print(names_difference)"
   ]
  },
  {
   "cell_type": "markdown",
   "metadata": {},
   "source": [
    "### Tuples\n",
    "Tuples are almost identical to lists, so they contain an ordered collection of elements, except for one property: they are immutable. We would use tuples if we needed a data structure that, once created, cannot be modified anymore. Furthermore, tuples can be used as dictionary keys if all the elements are immutable.\n",
    "\n",
    "Other than that, tuples have the same properties as lists. To create a tuple, we can either use round brackets (()) or the tuple() constructor. We can easily transform lists into tuples and vice versa (recall that we created the list l4 from a tuple).\n",
    "\n",
    "The pros of tuples are:\n",
    "\n",
    "They are immutable, so once created, we can be sure that we won't change their contents by mistake.\n",
    "They can be used as dictionary keys if all their elements are immutable.\n",
    "The cons of tuples are:\n",
    "\n",
    "We cannot use them when we have to work with modifiable objects; we have to resort to lists instead.\n",
    "Tuples cannot be copied.\n",
    "They occupy more memory than lists."
   ]
  },
  {
   "cell_type": "code",
   "execution_count": 18,
   "metadata": {},
   "outputs": [
    {
     "name": "stdout",
     "output_type": "stream",
     "text": [
      "Tuple t1: (1, 2, 3, 4)\n",
      "Tuple t2: (1, 2, 3, 4, 5)\n",
      "Tuple t3: (1, 2, 3, 4, 5, 6)\n"
     ]
    }
   ],
   "source": [
    "# Create a tuple using round brackets\n",
    "t1 = (1, 2, 3, 4)\n",
    "\n",
    "# Create a tuple from a list the tuple() constructor\n",
    "t2 = tuple([1, 2, 3, 4, 5])\n",
    "\n",
    "# Create a tuple using the tuple() constructor\n",
    "t3 = tuple([1, 2, 3, 4, 5, 6])\n",
    "\n",
    "# Print out tuples\n",
    "print(f\"Tuple t1: {t1}\")\n",
    "print(f\"Tuple t2: {t2}\")\n",
    "print(f\"Tuple t3: {t3}\")"
   ]
  },
  {
   "cell_type": "code",
   "execution_count": 19,
   "metadata": {},
   "outputs": [],
   "source": [
    "# Use tuples as dictionary keys\n",
    "working_hours = {(\"Rebecca\", 1): 38, (\"Thomas\", 2): 40}\n"
   ]
  }
 ],
 "metadata": {
  "kernelspec": {
   "display_name": "Python 3",
   "language": "python",
   "name": "python3"
  },
  "language_info": {
   "codemirror_mode": {
    "name": "ipython",
    "version": 3
   },
   "file_extension": ".py",
   "mimetype": "text/x-python",
   "name": "python",
   "nbconvert_exporter": "python",
   "pygments_lexer": "ipython3",
   "version": "3.11.4"
  }
 },
 "nbformat": 4,
 "nbformat_minor": 2
}
