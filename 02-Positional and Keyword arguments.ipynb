{
 "cells": [
  {
   "cell_type": "markdown",
   "metadata": {},
   "source": [
    "# Positional-only and Keyword-only arguments in Python\n",
    "\n",
    "Positional-only and keyword-only arguments are two unique argument-handling mechanisms in Python. They provide a way to specify which arguments should be passed to a function only by position.\n",
    "In Python, arguments can be passed to a function in two ways: positional arguments and keyword arguments:\n",
    "  + A positional argument is an argument that is passed to a function based on its position in the argument list\n",
    "  + A keyword argument is an argument that is passed to a function by specifying the parameter name and its corresponding value"
   ]
  },
  {
   "cell_type": "code",
   "execution_count": 1,
   "metadata": {},
   "outputs": [
    {
     "name": "stdout",
     "output_type": "stream",
     "text": [
      "7\n"
     ]
    }
   ],
   "source": [
    "def add(a, b):\n",
    "    return a + b\n",
    "# Pass 'a' as a positional argument and 'b' as keyword argument\n",
    "print(add(3, b=4))"
   ]
  },
  {
   "cell_type": "markdown",
   "metadata": {},
   "source": [
    "#### Positional-only function arguments in Python\n",
    "Positional-only arguments are a feature in Python that ensures some function parameters can only be provided by their position, not by their name. This is helpful when the order of the arguments matters more than their names, such as when working with images or geometry where the sequence of parameters is crucial.\n",
    "In Python, you can define positional-only arguments using a forward slash (/) in your function definition. Here’s a simple example:"
   ]
  },
  {
   "cell_type": "code",
   "execution_count": 3,
   "metadata": {},
   "outputs": [
    {
     "name": "stdout",
     "output_type": "stream",
     "text": [
      "200\n"
     ]
    }
   ],
   "source": [
    "def rectangle_area(length, width, /):   \n",
    "    # define length and width are positional-only arguments by using /\n",
    "    return length * width\n",
    "\n",
    "print(rectangle_area(10, 20))\n",
    "#print(rectangle_area(width=20, length=10)) --> TypeError because some positional-only arguments passed as keyword arguments"
   ]
  },
  {
   "cell_type": "code",
   "execution_count": 4,
   "metadata": {},
   "outputs": [
    {
     "name": "stdout",
     "output_type": "stream",
     "text": [
      "Resizing an image thumbnail.png with 10x20\n",
      "Resizing an image background.jpg with 1080x1920\n"
     ]
    }
   ],
   "source": [
    "def resize_image(height, width, /, name):\n",
    "    print(f'Resizing an image {name} with {height}x{width}')\n",
    "\n",
    "resize_image(10, 20, 'thumbnail.png')\n",
    "resize_image(1080, 1920, name='background.jpg')"
   ]
  },
  {
   "cell_type": "markdown",
   "metadata": {},
   "source": [
    "### Keyword-only Function arguments in Python\n",
    "Keyword-only arguments are a feature in Python that ensures some function parameters can only be provided by their names (keywords), not by their position in the argument list. This is useful when you want to make certain parameters optional or when you want to clearly distinguish between mandatory and optional arguments.\n",
    "In Python, you can define keyword-only arguments by placing an asterisk (*) in the function definition before these arguments. Here’s a simple example:"
   ]
  },
  {
   "cell_type": "code",
   "execution_count": 6,
   "metadata": {},
   "outputs": [
    {
     "name": "stdout",
     "output_type": "stream",
     "text": [
      "6280.0 cm^3\n",
      "6280.0 nm^3\n",
      "6280.0 cm^3\n",
      "6280.0 nm^3\n"
     ]
    }
   ],
   "source": [
    "def cylinder_volume(radius, height, *, units='cm^3'):\n",
    "    return f'{3.14 * (radius ** 2) * height} {units}'\n",
    "\n",
    "print(cylinder_volume(10, 20))\n",
    "print(cylinder_volume(10, 20, units='nm^3') )\n",
    "print(cylinder_volume(radius=10, height=20))\n",
    "print(cylinder_volume(10, height=20, units='nm^3'))\n",
    "#print(cylinder_volume(10, height=20, 20))"
   ]
  },
  {
   "cell_type": "markdown",
   "metadata": {},
   "source": [
    "# Python args and kwargs\n"
   ]
  },
  {
   "cell_type": "markdown",
   "metadata": {},
   "source": [
    "### Using the Python args Variable in Function Definitions\n",
    "When you define a function with *args, any number of positional arguments passed to the function will be collected into a tuple. This tuple can then be iterated over or manipulated within the function.\n",
    "Advantages of *args\n",
    "Flexibility: Allows you to call the function with any number of positional arguments without needing to define a fixed number of parameters.\n",
    "Convenience: Eliminates the need to create a list or other collection type before passing arguments to the function."
   ]
  },
  {
   "cell_type": "code",
   "execution_count": 1,
   "metadata": {},
   "outputs": [
    {
     "name": "stdout",
     "output_type": "stream",
     "text": [
      "6\n"
     ]
    }
   ],
   "source": [
    "def my_sum(my_integers):\n",
    "    result = 0\n",
    "    for x in my_integers:\n",
    "        result += x\n",
    "    return result\n",
    "\n",
    "list_of_integers = [1, 2, 3]\n",
    "print(my_sum(list_of_integers))"
   ]
  },
  {
   "cell_type": "code",
   "execution_count": 2,
   "metadata": {},
   "outputs": [
    {
     "name": "stdout",
     "output_type": "stream",
     "text": [
      "Sum:  8\n",
      "Sum:  22\n",
      "Sum:  17\n"
     ]
    }
   ],
   "source": [
    "def adder(*num):\n",
    "    sum = 0\n",
    "\n",
    "    for n in num:\n",
    "        sum = sum + n\n",
    "    print(\"Sum: \", sum)\n",
    "\n",
    "adder(3,5)\n",
    "adder(4, 5, 6, 7)\n",
    "adder(1, 2, 3, 5, 6)\n"
   ]
  },
  {
   "cell_type": "markdown",
   "metadata": {},
   "source": [
    "### Using the Python kwargs variable in function definitions\n",
    "Python passes variable length non keyword argument to function using *args but we cannot use this to pass keyword argument. For this problem Python has got a solution called **kwargs, it allows us to pass the variable length of keyword arguments to the function.\n",
    "\n",
    "In the function, we use the double asterisk ** before the parameter name to denote this type of argument. The arguments are passed as a dictionary and these arguments make a dictionary inside function with name same as the parameter excluding double asterisk **."
   ]
  },
  {
   "cell_type": "code",
   "execution_count": 7,
   "metadata": {},
   "outputs": [
    {
     "name": "stdout",
     "output_type": "stream",
     "text": [
      "\n",
      "Data type of argument: <class 'dict'>\n",
      "Firstname is Sita\n",
      "Lastname is Sharma\n",
      "Age is 22\n",
      "Phone is 123456\n",
      "\n",
      "Data type of argument: <class 'dict'>\n",
      "Firstname is Vy\n",
      "Lastname is Nguyen\n",
      "Email is ntvy0312@gmail.com\n",
      "Age is 26\n",
      "Phone is 1234567\n"
     ]
    }
   ],
   "source": [
    "def intro(**data):\n",
    "    print(\"\\nData type of argument:\", type(data))\n",
    "    for key, value in data.items():\n",
    "        print(\"{} is {}\". format(key, value))\n",
    "\n",
    "intro(Firstname=\"Sita\", Lastname=\"Sharma\", Age=22, Phone=123456)\n",
    "intro(Firstname=\"Vy\", Lastname=\"Nguyen\", Email=\"ntvy0312@gmail.com\", Age=26, Phone=1234567)"
   ]
  }
 ],
 "metadata": {
  "kernelspec": {
   "display_name": "base",
   "language": "python",
   "name": "python3"
  },
  "language_info": {
   "codemirror_mode": {
    "name": "ipython",
    "version": 3
   },
   "file_extension": ".py",
   "mimetype": "text/x-python",
   "name": "python",
   "nbconvert_exporter": "python",
   "pygments_lexer": "ipython3",
   "version": "3.11.4"
  }
 },
 "nbformat": 4,
 "nbformat_minor": 2
}
