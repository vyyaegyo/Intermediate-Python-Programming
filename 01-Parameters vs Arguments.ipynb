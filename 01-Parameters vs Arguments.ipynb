{
 "cells": [
  {
   "cell_type": "markdown",
   "metadata": {},
   "source": [
    "# Parameters vs. Arguments\n",
    "\n",
    "In Python, the terms \"arguments\" and \"parameters\" used interchangeably, but they have slighty different meanings.\n"
   ]
  },
  {
   "cell_type": "markdown",
   "metadata": {},
   "source": [
    "#### Parameters (PlaceHolder Values)\n",
    "Parameters are the input variables that are defined when defining a function. \n",
    "They serve as placeholders for the actual values that will be passed to the function when it is called"
   ]
  },
  {
   "cell_type": "code",
   "execution_count": 9,
   "metadata": {},
   "outputs": [],
   "source": [
    "def area(length, width):\n",
    "    # Parameters: length, width (Placeholder Values)\n",
    "    return length * width"
   ]
  },
  {
   "cell_type": "markdown",
   "metadata": {},
   "source": [
    "Explanation\n",
    "In this example, length and width are the parameters of the area() function. When this function is called, the value that is passed to length and width will be used to generate the value for the return statement"
   ]
  },
  {
   "cell_type": "markdown",
   "metadata": {},
   "source": [
    "### Arguments (Actual Values)\n",
    "Arguments are the actual values that are passed to a function when it is called. In other words, they are the values that are used to replace the placeholders (parameters) in the function definition\n",
    "In Python, arguments are passed within the parentheses of a function call"
   ]
  },
  {
   "cell_type": "code",
   "execution_count": 10,
   "metadata": {},
   "outputs": [
    {
     "name": "stdout",
     "output_type": "stream",
     "text": [
      "200\n"
     ]
    }
   ],
   "source": [
    "def area(length, width):\n",
    "    # Parameters: length, width (Placeholder Values)\n",
    "    return length * width\n",
    "# Arguments: 10, 20 (Actual values)\n",
    "result = area(10, 20)\n",
    "print(result)"
   ]
  },
  {
   "cell_type": "markdown",
   "metadata": {},
   "source": [
    "### Difference between Arguments and Parameters\n",
    "Parameters are the placeholders defined in a function definition\n",
    "Arguments are the actual values passed to a function when it is called\n",
    "The number of parameters in a function definition is fixed , whereas the number of arguments that can be passed to a function can vary\n",
    "If a function is called with too few or too many arguments, a TypeError is raised\n",
    "Parameters are used to define a function's signature, while arguments are used to invoke the function"
   ]
  },
  {
   "cell_type": "code",
   "execution_count": 11,
   "metadata": {},
   "outputs": [
    {
     "name": "stdout",
     "output_type": "stream",
     "text": [
      "5\n"
     ]
    }
   ],
   "source": [
    "def addition(x, y):\n",
    "    return x + y\n",
    "\n",
    "result = addition(2, 3)\n",
    "print(result)"
   ]
  }
 ],
 "metadata": {
  "kernelspec": {
   "display_name": "base",
   "language": "python",
   "name": "python3"
  },
  "language_info": {
   "codemirror_mode": {
    "name": "ipython",
    "version": 3
   },
   "file_extension": ".py",
   "mimetype": "text/x-python",
   "name": "python",
   "nbconvert_exporter": "python",
   "pygments_lexer": "ipython3",
   "version": "3.9.7"
  }
 },
 "nbformat": 4,
 "nbformat_minor": 2
}
