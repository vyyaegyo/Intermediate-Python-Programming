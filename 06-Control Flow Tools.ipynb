{
 "cells": [
  {
   "cell_type": "markdown",
   "metadata": {},
   "source": [
    "# More Control Flow Tools"
   ]
  },
  {
   "cell_type": "markdown",
   "metadata": {},
   "source": [
    "# Else with While loop"
   ]
  },
  {
   "cell_type": "code",
   "execution_count": 10,
   "metadata": {},
   "outputs": [
    {
     "name": "stdout",
     "output_type": "stream",
     "text": [
      "i =  1\n",
      "i =  2\n",
      "i =  3\n",
      "i =  4\n",
      "i =  5\n",
      "else block is executed\n"
     ]
    }
   ],
   "source": [
    "i=0\n",
    "\n",
    "while i<5:\n",
    "    i+=1\n",
    "    print(\"i = \", i)\n",
    "else:\n",
    "    print(\"else block is executed\")"
   ]
  },
  {
   "cell_type": "markdown",
   "metadata": {},
   "source": [
    "### If statement\n",
    "Perhaps the most well-known statement type is the if statement"
   ]
  },
  {
   "cell_type": "code",
   "execution_count": null,
   "metadata": {},
   "outputs": [],
   "source": [
    "x = int(input(\"Please enter an integer: \"))\n",
    "if x < 0:\n",
    "    x = 0\n",
    "    print('Negative changed to zero')\n",
    "elif x == 0:\n",
    "    print('Zero')\n",
    "elif x == 1:\n",
    "    print('Single')\n",
    "else:\n",
    "    print('More')"
   ]
  },
  {
   "cell_type": "markdown",
   "metadata": {},
   "source": [
    "### For statement\n",
    "Python’s for statement iterates over the items of any sequence (a list or a string), in the order that they appear in the sequence"
   ]
  },
  {
   "cell_type": "code",
   "execution_count": 11,
   "metadata": {},
   "outputs": [
    {
     "name": "stdout",
     "output_type": "stream",
     "text": [
      "1\n",
      "2\n",
      "3\n",
      "4\n",
      "5\n",
      "else block is executed\n"
     ]
    }
   ],
   "source": [
    "v = [1, 2, 3, 4, 5]\n",
    "\n",
    "for a in v:\n",
    "    print(a)\n",
    "else:\n",
    "    print(\"else block is executed\")"
   ]
  },
  {
   "cell_type": "code",
   "execution_count": 5,
   "metadata": {},
   "outputs": [
    {
     "name": "stdout",
     "output_type": "stream",
     "text": [
      "cat 3\n",
      "window 6\n",
      "defenestrate 12\n"
     ]
    }
   ],
   "source": [
    "# Measure some strings:\n",
    "words = ['cat', 'window', 'defenestrate']\n",
    "for w in words:\n",
    "    print(w, len(w))"
   ]
  },
  {
   "cell_type": "code",
   "execution_count": 7,
   "metadata": {},
   "outputs": [
    {
     "name": "stdout",
     "output_type": "stream",
     "text": [
      "{'Hans': 'active'}\n"
     ]
    }
   ],
   "source": [
    "# Create a sample collection\n",
    "users = {'Hans': 'active', 'Éléonore': 'inactive', '景太郎': 'inactive'}\n",
    "\n",
    "# Strategy: Iterate over a copy\n",
    "for user, status in users.copy().items():\n",
    "    if status == 'inactive':\n",
    "        del users[user]\n",
    "\n",
    "# Strategy: Create a new collection\n",
    "active_users = {}\n",
    "for user, status in users.items():\n",
    "    if status == 'active':\n",
    "        active_users[user] = status\n",
    "\n",
    "print(active_users)"
   ]
  },
  {
   "cell_type": "markdown",
   "metadata": {},
   "source": [
    "### Break and continue statements, and else clauses on Loops\n",
    "The break statement breaks out of the innermost enclosing for or while loop.\n",
    "A for or while loop can include an else clause.\n",
    "In a for loop, the else clause is executed after the loop reaches its final iteration.\n",
    "In a while loop, it’s executed after the loop’s condition becomes false.\n",
    "In either kind of loop, the else clause is not executed if the loop was terminated by a break."
   ]
  },
  {
   "cell_type": "code",
   "execution_count": 8,
   "metadata": {},
   "outputs": [
    {
     "name": "stdout",
     "output_type": "stream",
     "text": [
      "2 is a prime number\n",
      "3 is a prime number\n",
      "4 equals 2 * 2\n",
      "5 is a prime number\n",
      "6 equals 2 * 3\n",
      "7 is a prime number\n",
      "8 equals 2 * 4\n",
      "9 equals 3 * 3\n"
     ]
    }
   ],
   "source": [
    "for n in range(2, 10):\n",
    "    for x in range(2, n):\n",
    "        if n % x == 0:\n",
    "            print(n, 'equals', x, '*', n//x)\n",
    "            break\n",
    "    else:\n",
    "        # loop fell through without finding a factor\n",
    "        print(n, 'is a prime number')"
   ]
  },
  {
   "cell_type": "code",
   "execution_count": 9,
   "metadata": {},
   "outputs": [
    {
     "name": "stdout",
     "output_type": "stream",
     "text": [
      "Found an even number 2\n",
      "Found an odd number 3\n",
      "Found an even number 4\n",
      "Found an odd number 5\n",
      "Found an even number 6\n",
      "Found an odd number 7\n",
      "Found an even number 8\n",
      "Found an odd number 9\n"
     ]
    }
   ],
   "source": [
    "for num in range(2, 10):\n",
    "    if num % 2 == 0:\n",
    "        print(\"Found an even number\", num)\n",
    "        continue\n",
    "    print(\"Found an odd number\", num)"
   ]
  },
  {
   "cell_type": "code",
   "execution_count": 12,
   "metadata": {},
   "outputs": [
    {
     "name": "stdout",
     "output_type": "stream",
     "text": [
      "For List 1:\n",
      "list contains an even number\n",
      " \n",
      "For List 2:\n",
      "list does not contain an even number\n"
     ]
    }
   ],
   "source": [
    "def contains_even_number(l): \n",
    "\t\n",
    "\tn = len(l) \n",
    "\ti = 0\n",
    "\twhile i < n: \n",
    "\t\tif l[i] % 2 == 0: \n",
    "\t\t\tprint(\"list contains an even number\") \n",
    "\t\t\tbreak\n",
    "\t\ti += 1\n",
    "\n",
    "\t# This else executes only if break is NEVER \n",
    "\t# reached and loop terminated after all \n",
    "\t# iterations \n",
    "\telse: \n",
    "\t\tprint(\"list does not contain an even number\") \n",
    "\n",
    "# Driver code \n",
    "print (\"For List 1:\") \n",
    "contains_even_number([1, 9, 8]) \n",
    "print (\" \\nFor List 2:\") \n",
    "contains_even_number([1, 3, 5])\n"
   ]
  },
  {
   "cell_type": "code",
   "execution_count": 13,
   "metadata": {},
   "outputs": [
    {
     "name": "stdout",
     "output_type": "stream",
     "text": [
      "For List 1:\n",
      "list contains an even number\n",
      " \n",
      "For List 2:\n",
      "list does not contain an even number\n"
     ]
    }
   ],
   "source": [
    "def contains_even_number(l): \n",
    "\tfor ele in l: \n",
    "\t\tif ele % 2 == 0: \n",
    "\t\t\tprint (\"list contains an even number\") \n",
    "\t\t\tbreak\n",
    "\t\n",
    "\t# This else executes only if break is NEVER \n",
    "\t# reached and loop terminated after all \n",
    "\t# iterations. \n",
    "\telse:\t \n",
    "\t\tprint (\"list does not contain an even number\") \n",
    "\t\n",
    "# Driver code \n",
    "print (\"For List 1:\") \n",
    "contains_even_number([1, 9, 8]) \n",
    "print (\" \\nFor List 2:\") \n",
    "contains_even_number([1, 3, 5])\n"
   ]
  }
 ],
 "metadata": {
  "kernelspec": {
   "display_name": "Python 3",
   "language": "python",
   "name": "python3"
  },
  "language_info": {
   "codemirror_mode": {
    "name": "ipython",
    "version": 3
   },
   "file_extension": ".py",
   "mimetype": "text/x-python",
   "name": "python",
   "nbconvert_exporter": "python",
   "pygments_lexer": "ipython3",
   "version": "3.11.4"
  }
 },
 "nbformat": 4,
 "nbformat_minor": 2
}
